{
 "cells": [
  {
   "cell_type": "code",
   "execution_count": 80,
   "id": "80482a9d",
   "metadata": {},
   "outputs": [],
   "source": [
    "import numpy as np"
   ]
  },
  {
   "cell_type": "code",
   "execution_count": 81,
   "id": "2d83a539",
   "metadata": {},
   "outputs": [],
   "source": [
    "def l2norm(x):\n",
    "    #y=0\n",
    "    y= x*x\n",
    "    l2norm=0\n",
    "    for i in range(len(y)):\n",
    "        l2norm += y[i]\n",
    "    \n",
    "    \n",
    "    return l2norm\n",
    "\n",
    "\n",
    "    "
   ]
  },
  {
   "cell_type": "code",
   "execution_count": 82,
   "id": "14e08da3",
   "metadata": {},
   "outputs": [
    {
     "data": {
      "text/plain": [
       "array([-0.05959723, -0.997785  ,  0.84761573, -0.64885215, -0.59786866])"
      ]
     },
     "execution_count": 82,
     "metadata": {},
     "output_type": "execute_result"
    }
   ],
   "source": [
    "t= np.random.randn(5)\n",
    "t"
   ]
  },
  {
   "cell_type": "code",
   "execution_count": 83,
   "id": "0a866dff",
   "metadata": {},
   "outputs": [
    {
     "data": {
      "text/plain": [
       "2.4960352111847057"
      ]
     },
     "execution_count": 83,
     "metadata": {},
     "output_type": "execute_result"
    }
   ],
   "source": [
    "l2norm(t)"
   ]
  }
 ],
 "metadata": {
  "kernelspec": {
   "display_name": "Python 3 (ipykernel)",
   "language": "python",
   "name": "python3"
  },
  "language_info": {
   "codemirror_mode": {
    "name": "ipython",
    "version": 3
   },
   "file_extension": ".py",
   "mimetype": "text/x-python",
   "name": "python",
   "nbconvert_exporter": "python",
   "pygments_lexer": "ipython3",
   "version": "3.9.12"
  }
 },
 "nbformat": 4,
 "nbformat_minor": 5
}
